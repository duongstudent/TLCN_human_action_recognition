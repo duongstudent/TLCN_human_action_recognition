{
  "cells": [
    {
      "cell_type": "markdown",
      "metadata": {
        "id": "_W6JMWKMJjR0"
      },
      "source": [
        "## Setup"
      ]
    },
    {
      "cell_type": "code",
      "execution_count": 1,
      "metadata": {
        "id": "T2bz5_E2IDgS"
      },
      "outputs": [],
      "source": [
        "import cv2\n",
        "import os\n",
        "import shutil\n",
        "import glob\n",
        "import numpy as np\n",
        "import torch\n",
        "\n",
        "from google.colab.patches import cv2_imshow"
      ]
    },
    {
      "cell_type": "code",
      "execution_count": 2,
      "metadata": {
        "id": "z6mmEIaSXcCF"
      },
      "outputs": [
        {
          "name": "stdout",
          "output_type": "stream",
          "text": [
            "d:\\HocDaiHoc\\TLCN_human_action_recognition\\TraningModel\\coco_kpts\n",
            "d:\\HocDaiHoc\\TLCN_human_action_recognition\\TraningModel\\coco_kpts\\images\n"
          ]
        }
      ],
      "source": [
        "%cd coco_kpts\n",
        "!unzip coco_kpts/coco2017labels-keypoints.zip\n",
        "%cd images\n",
        "!wget http://images.cocodataset.org/zips/train2017.zip\n",
        "!wget http://images.cocodataset.org/zips/val2017.zip\n",
        "\n",
        "!unzip train2017.zip\n",
        "!unzip val2017.zip\n",
        "%cd ../.."
      ]
    },
    {
      "attachments": {},
      "cell_type": "markdown",
      "metadata": {},
      "source": [
        "## Check dataset"
      ]
    },
    {
      "cell_type": "code",
      "execution_count": 1,
      "metadata": {
        "id": "ycfAy6i4QurH"
      },
      "outputs": [],
      "source": [
        "path_anno = '/coco_kpts/labels/val2017/000000006471.txt'\n",
        "path_img = path_anno.replace('labels', 'images').replace('txt', 'jpg')\n",
        "img = cv2.imread(path_img)\n"
      ]
    },
    {
      "cell_type": "code",
      "execution_count": null,
      "metadata": {
        "colab": {
          "base_uri": "https://localhost:8080/",
          "height": 422
        },
        "id": "CNmpfCSxELJp",
        "outputId": "2c6f5e3d-1ea6-4f5d-90e2-11fdc3c0c283"
      },
      "outputs": [],
      "source": [
        "def take_point(path_anno):\n",
        "    with open(path_anno, 'r') as f:\n",
        "        lines = f.readlines()\n",
        "    points = []\n",
        "    class_ids = []\n",
        "    bbox = []\n",
        "    for line in lines:\n",
        "        line = line.split(' ')\n",
        "        class_id = int(line[0])\n",
        "        for i in range(2, len(line), 3):\n",
        "            if float(line[i+2]) > 0.9:\n",
        "              point = [float(line[i]), float(line[i+1])]\n",
        "              points.append(point)\n",
        "              class_ids.append(class_id)\n",
        "        x1,y1 = float(line[1])-float(line[3])/2, float(line[2])-float(line[4])/2\n",
        "        x2,y2 = float(line[1])+float(line[3])/2, float(line[2])+float(line[4])/2\n",
        "        bbox.append([x1,y1,x2,y2])\n",
        "        # break\n",
        "    return points , class_ids, bbox"
      ]
    },
    {
      "cell_type": "code",
      "execution_count": null,
      "metadata": {
        "colab": {
          "base_uri": "https://localhost:8080/",
          "height": 1000
        },
        "id": "t1EThjU9SRll",
        "outputId": "f0c427a6-5968-4912-e92f-b2ebab02313a"
      },
      "outputs": [],
      "source": [
        "list_anno_path = glob.glob(\"/coco_kpts/labels/val2017/*.txt\")\n",
        "for path_anno in list_anno_path[:10]:\n",
        "  path_img = path_anno.replace('labels', 'images').replace('txt', 'jpg')\n",
        "  img = cv2.imread(path_img)\n",
        "  h, w, c = img.shape\n",
        "  print(h,w)\n",
        "  points, class_ids,bboxs = take_point(path_anno)\n",
        "  print(class_ids)\n",
        "  for i in range(len(points)):\n",
        "      cv2.circle(img, (int(points[i][0]*w), int(points[i][1]*h)), 5, (0, 0, 255), -1)\n",
        "\n",
        "  for bbox in bboxs:\n",
        "      cv2.rectangle(img, (int(bbox[0]*w), int(bbox[1]*h)), (int(bbox[2]*w), int(bbox[3]*h)), (0, 255, 0), 1)\n",
        "\n",
        "  cv2_imshow(img)"
      ]
    },
    {
      "cell_type": "code",
      "execution_count": null,
      "metadata": {
        "colab": {
          "base_uri": "https://localhost:8080/"
        },
        "id": "UAL4AKL8AkkN",
        "outputId": "9e66be51-1cb5-43a5-e137-b51e5b5a25ee"
      },
      "outputs": [],
      "source": [
        "%cd yolov7\n",
        "!pip install -r requirements.txt"
      ]
    },
    {
      "attachments": {},
      "cell_type": "markdown",
      "metadata": {
        "id": "4P9xGrs7JvDY"
      },
      "source": [
        "## Train"
      ]
    },
    {
      "cell_type": "code",
      "execution_count": 20,
      "metadata": {
        "id": "bCnbcBayxnHf"
      },
      "outputs": [],
      "source": [
        "device = torch.device('cuda' if torch.cuda.is_available() else 'cpu')"
      ]
    },
    {
      "cell_type": "code",
      "execution_count": null,
      "metadata": {
        "colab": {
          "base_uri": "https://localhost:8080/"
        },
        "id": "RxjOUUjZHYsy",
        "outputId": "2c60bedb-3adc-417a-8093-66d5a2bc28c7"
      },
      "outputs": [],
      "source": [
        "!python train.py --data data/coco_kpts.yaml --cfg cfg/yolov7-w6-pose.yaml --weights weights/yolov7-w6-person.pt --batch-size 4 --device $device --name yolov7-w6-pose --hyp data/hyp.pose.yaml --kpt-label --epochs 1"
      ]
    },
    {
      "attachments": {},
      "cell_type": "markdown",
      "metadata": {},
      "source": [
        "## Test"
      ]
    },
    {
      "cell_type": "code",
      "execution_count": null,
      "metadata": {
        "colab": {
          "base_uri": "https://localhost:8080/"
        },
        "id": "1PBUFN4_o_du",
        "outputId": "04e73296-ae2f-466f-d442-f8c21125e173"
      },
      "outputs": [],
      "source": [
        "!python test.py --data data/coco_kpts.yaml --conf 0.001 --iou 0.65 --weights runs/train/yolov7-w6-pose15/weights/best.pt --kpt-label"
      ]
    },
    {
      "cell_type": "code",
      "execution_count": null,
      "metadata": {
        "id": "Ey2Ogj6h_72f"
      },
      "outputs": [],
      "source": [
        "!python test.py --data data/coco_kpts.yaml --conf 0.001 --iou 0.65 --weights /content/yolov7-w6-pose.pt --kpt-label"
      ]
    }
  ],
  "metadata": {
    "colab": {
      "collapsed_sections": [
        "96eQwTHAJq7p",
        "4P9xGrs7JvDY"
      ],
      "provenance": []
    },
    "gpuClass": "standard",
    "kernelspec": {
      "display_name": "base",
      "language": "python",
      "name": "python3"
    },
    "language_info": {
      "codemirror_mode": {
        "name": "ipython",
        "version": 3
      },
      "file_extension": ".py",
      "mimetype": "text/x-python",
      "name": "python",
      "nbconvert_exporter": "python",
      "pygments_lexer": "ipython3",
      "version": "3.9.13 (main, Aug 25 2022, 23:51:50) [MSC v.1916 64 bit (AMD64)]"
    },
    "vscode": {
      "interpreter": {
        "hash": "5179d32cf6ec497baf3f8a3ef987cc77c5d2dc691fdde20a56316522f61a7323"
      }
    }
  },
  "nbformat": 4,
  "nbformat_minor": 0
}
